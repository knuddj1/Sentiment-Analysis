{
 "cells": [
  {
   "cell_type": "markdown",
   "metadata": {},
   "source": [
    "Special Topic - Machine Learning  - Semester Recap\n",
    "--"
   ]
  },
  {
   "cell_type": "markdown",
   "metadata": {},
   "source": [
    "Throughout the semester, my project was to create a sentiment analysis engine to classify pieces of text into one of three different categories: positive, netural and negative. Throughout this notebook, I will detail, each step of the process that I went through, throughout the project. \n",
    "\n",
    "<b>Below is a list of each sections covered:</b>\n",
    "- Obtaining a training dataset\n",
    "- Processing the dataset\n",
    "- Cleaning and preparing the dataset\n",
    "- Creating a test dataset\n",
    "- Creating a model baseline\n",
    "- Performing a grid search\n",
    "- Hyperparameter fine tuning\n"
   ]
  },
  {
   "cell_type": "markdown",
   "metadata": {},
   "source": [
    "Obtaining a training dataset\n",
    "--\n",
    "\n",
    "My first task was to obtain a dataset (or combination of datasets) that contained pieces of text with sufficent amounts data in each of the three categories. I looked at various datasets from kaggle but found that the number of neutral samples was severly lacking compared to positive and negative. I decided on using an amazon review dataset that can be found here http://jmcauley.ucsd.edu/data/amazon/.\n",
    "\n",
    "The dataset used on the website has the following description:\n",
    "<i>\"5-core (9.9gb) - subset of the data in which all users and items have at least 5 reviews (41.13 million reviews).\"</i>\n",
    "\n",
    "As the description states The dataset had over 9.9gb worth of data, however only a portion of the data was required for the model. The next section explains how I processed the dataset. The dataset is made up of a list of categories shown below:"
   ]
  },
  {
   "cell_type": "markdown",
   "metadata": {},
   "source": [
    "- Books (8,898,041 reviews)\n",
    "- Electronics (1,689,188 reviews)\n",
    "- Movies and TV (1,697,533 reviews)\n",
    "- CDs and Vinyl (1,097,592 reviews)\n",
    "- Clothing, Shoes and Jewelry (278,677 reviews)\n",
    "- Home and Kitchen (551,682 reviews)\n",
    "- Kindle Store (982,619 reviews)\n",
    "- Sports and Outdoors (296,337 reviews)\n",
    "- Cell Phones and Accessories (194,439 reviews)\n",
    "- Health and Personal Care (346,355 reviews)\n",
    "- Toys and Games (167,597 reviews)\n",
    "- Video Games (231,780 reviews)\n",
    "- Tools and Home Improvement (134,476 reviews)\n",
    "- Beauty (198,502 reviews)\n",
    "- Apps for Android (752,937 reviews)\n",
    "- Office Products (53,258 reviews)\n",
    "- Pet Supplies (157,836 reviews)\n",
    "- Automotive (20,473 reviews)\n",
    "- Grocery and Gourmet Food (151,254 reviews)\n",
    "- Patio, Lawn and Garden (13,272 reviews)\n",
    "- Baby (160,792 reviews)\n",
    "- Digital Music (64,706 reviews)\n",
    "- Musical Instruments\t(10,261 reviews)\n",
    "- Amazon Instant Video (37,126 reviews)"
   ]
  },
  {
   "cell_type": "markdown",
   "metadata": {},
   "source": [
    "Processing the dataset\n",
    "--\n",
    "\n",
    "Each sample within the dataset is a user submited review \n",
    "\n",
    "An example of a sample from the dataset:"
   ]
  },
  {
   "cell_type": "markdown",
   "metadata": {},
   "source": [
    "    {\n",
    "      \"reviewerID\": \"A2SUAM1J3GNN3B\",\n",
    "      \"asin\": \"0000013714\",\n",
    "      \"reviewerName\": \"J. McDonald\",\n",
    "      \"helpful\": [2, 3],\n",
    "      \"reviewText\": \"I bought this for my husband who plays the piano.  He is having a wonderful time playing these old hymns.  The music is at times hard to read because we think the book was published for singing from more than playing from.  Great purchase though!\",\n",
    "      \"overall\": 5.0,\n",
    "      \"summary\": \"Heavenly Highway Hymns\",\n",
    "      \"unixReviewTime\": 1252800000,\n",
    "      \"reviewTime\": \"09 13, 2009\"\n",
    "    }"
   ]
  },
  {
   "cell_type": "markdown",
   "metadata": {},
   "source": [
    "The only parts of the samples I was interested in were <i>reviewText</i> and <i>overall</i>, the rest was discarded. The reviewText being the data and overall being the labels. Only reviews with overall being '1.0', '3.0' and '5.0' were used as well, with '2.0' and '4.0' discarded. Reviews with a overall of '1.0' were given a label of '-1' representing negative, '3.0 were given a label of '0' representing netural and '5.0' were given a label of '1' representing positive.\n",
    "\n",
    "The remaining dataset resulted in a very unbalanced amount of samples between each category; The number of positive samples being greater than the number of neutral samples and the number of neutral being greater than negative. To solve this issue I took the total number of negative samples in each of the dataset's categories and only used that number of postive and neutral samples. This resulted in <b>789,327</b> positive, neutral and negative samples, creating a total dataset of <b>2,367,981</b> data points."
   ]
  },
  {
   "cell_type": "markdown",
   "metadata": {},
   "source": [
    "Cleaning and preparing the dataset\n",
    "--"
   ]
  },
  {
   "cell_type": "markdown",
   "metadata": {},
   "source": [
    "Machine learning models do not work well with raw text. So before the data is ready to be fed into a model it has to be converted to a numerical form.\n",
    "\n"
   ]
  },
  {
   "cell_type": "code",
   "execution_count": null,
   "metadata": {},
   "outputs": [],
   "source": []
  }
 ],
 "metadata": {
  "kernelspec": {
   "display_name": "Python 3",
   "language": "python",
   "name": "python3"
  },
  "language_info": {
   "codemirror_mode": {
    "name": "ipython",
    "version": 3
   },
   "file_extension": ".py",
   "mimetype": "text/x-python",
   "name": "python",
   "nbconvert_exporter": "python",
   "pygments_lexer": "ipython3",
   "version": "3.6.5"
  }
 },
 "nbformat": 4,
 "nbformat_minor": 2
}
